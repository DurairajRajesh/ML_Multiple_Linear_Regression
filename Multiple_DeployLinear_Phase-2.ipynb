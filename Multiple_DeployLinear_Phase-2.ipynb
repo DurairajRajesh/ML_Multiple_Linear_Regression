{
 "cells": [
  {
   "cell_type": "code",
   "execution_count": 1,
   "id": "2553333e-805f-4013-a485-566ee8d40b71",
   "metadata": {},
   "outputs": [],
   "source": [
    "import pickle"
   ]
  },
  {
   "cell_type": "code",
   "execution_count": 5,
   "id": "29aad518-b370-4411-af02-4e51662d08a7",
   "metadata": {},
   "outputs": [],
   "source": [
    "load_model = pickle.load(open(\"Multiple_finalized_model.sav\", 'rb'))"
   ]
  },
  {
   "cell_type": "code",
   "execution_count": 9,
   "id": "3c116dca-0530-4fad-b6dd-e5cad371b181",
   "metadata": {},
   "outputs": [
    {
     "name": "stderr",
     "output_type": "stream",
     "text": [
      "C:\\Anaconda\\Lib\\site-packages\\sklearn\\base.py:493: UserWarning: X does not have valid feature names, but LinearRegression was fitted with feature names\n",
      "  warnings.warn(\n"
     ]
    }
   ],
   "source": [
    "result = load_model.predict([[24234,68788,12333,1,0]])"
   ]
  },
  {
   "cell_type": "code",
   "execution_count": 11,
   "id": "e3b8d8e4-3d86-4735-87e3-f08fe0dd5a7c",
   "metadata": {},
   "outputs": [
    {
     "name": "stdout",
     "output_type": "stream",
     "text": [
      "[[64491.80744041]]\n"
     ]
    }
   ],
   "source": [
    "print(result)"
   ]
  },
  {
   "cell_type": "code",
   "execution_count": 15,
   "id": "66304dad-f7cd-4604-9a41-235b08a83e1a",
   "metadata": {},
   "outputs": [
    {
     "name": "stdin",
     "output_type": "stream",
     "text": [
      "Enter the Prediction R&D Spend value 3434\n",
      "Enter the Prediction Administration value 76676\n",
      "Enter the Prediction Marketing Spend value 65768\n",
      "Enter the Prediction State_Florida value 0\n",
      "Enter the Prediction State_NewYork value 1\n"
     ]
    },
    {
     "name": "stdout",
     "output_type": "stream",
     "text": [
      "Prediction=[[49779.57207554]]\n"
     ]
    },
    {
     "name": "stderr",
     "output_type": "stream",
     "text": [
      "C:\\Anaconda\\Lib\\site-packages\\sklearn\\base.py:493: UserWarning: X does not have valid feature names, but LinearRegression was fitted with feature names\n",
      "  warnings.warn(\n"
     ]
    }
   ],
   "source": [
    "predication_input_RnD_Spend=int(input(\"Enter the Prediction R&D Spend value\"))\n",
    "predication_input_Administration=int(input(\"Enter the Prediction Administration value\"))\n",
    "predication_input_Marketing_Spend=int(input(\"Enter the Prediction Marketing Spend value\"))\n",
    "predication_input_State_Florida=int(input(\"Enter the Prediction State_Florida value\"))\n",
    "predication_input_State_NewYork=int(input(\"Enter the Prediction State_NewYork value\"))\n",
    "Future_Preditcion = load_model.predict([[predication_input_RnD_Spend, predication_input_Administration, predication_input_Marketing_Spend, predication_input_State_Florida, predication_input_State_NewYork]])\n",
    "print(\"Prediction={}\".format(Future_Preditcion))"
   ]
  },
  {
   "cell_type": "code",
   "execution_count": null,
   "id": "bb39bca1-91c0-455d-8f96-275202463d24",
   "metadata": {},
   "outputs": [],
   "source": []
  }
 ],
 "metadata": {
  "kernelspec": {
   "display_name": "Python 3 (ipykernel)",
   "language": "python",
   "name": "python3"
  },
  "language_info": {
   "codemirror_mode": {
    "name": "ipython",
    "version": 3
   },
   "file_extension": ".py",
   "mimetype": "text/x-python",
   "name": "python",
   "nbconvert_exporter": "python",
   "pygments_lexer": "ipython3",
   "version": "3.12.4"
  }
 },
 "nbformat": 4,
 "nbformat_minor": 5
}
